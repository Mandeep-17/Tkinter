{
 "cells": [
  {
   "cell_type": "code",
   "execution_count": 1,
   "id": "5cde2708",
   "metadata": {},
   "outputs": [],
   "source": [
    "import tkinter as tk\n",
    "from googletrans import Translator\n",
    "from tkinter import scrolledtext\n",
    "import pyttsx3"
   ]
  },
  {
   "cell_type": "code",
   "execution_count": 18,
   "id": "0ba31748",
   "metadata": {},
   "outputs": [],
   "source": [
    "class GoogleLangTranslator():\n",
    "    def google_translator(self,lang):\n",
    "        user_input = text_area.get(0.0,tk.END)\n",
    "        try:\n",
    "            translator = Translator()\n",
    "            result = translator.translate(text=user_input,dest=lang)\n",
    "            output.config(text=self.result.text)\n",
    "        except:\n",
    "            output.config(text=\"Can't Translate This :(\")\n",
    "            \n",
    "    def speak(self):\n",
    "        if self.result.dest=='en':\n",
    "            pyttsx3.speak(self.result.text)\n",
    "        else:\n",
    "            output.config(text=\"Can't Speak This Language :(\")\n",
    "                          \n",
    "glt = GoogleLangTranslator()        \n",
    "                          \n",
    "window = tk.Tk()\n",
    "\n",
    "window.title('Google Translator')\n",
    "window.geometry('700x500')\n",
    "window.config(bg='white')\n",
    "\n",
    "heading = tk.Label(text='Google Translator',font=('Cooper Black',45),fg='black',bg='white')\n",
    "heading.grid(row=1,column=1,columnspan=2,pady=20)\n",
    "\n",
    "translate_btn = tk.Button(text='Translate',font=('Microsoft Himalaya',20),width=10,bg='#008744',fg='white',relief='solid',command=lambda : glt.google_translator('en'))\n",
    "hindi_btn = tk.Button(text='Hindi',font=('Microsoft Himalaya',20),width=10,bg='#0057e7',fg='white',relief='solid',command=lambda : glt.google_translator('hindi'))\n",
    "punjabi_btn = tk.Button(text='Punjabi',font=('Microsoft Himalaya',20),width=10,bg='#d62d20',fg='white',relief='solid',command=lambda : glt.google_translator('punjabi'))\n",
    "speak_btn = tk.Button(text='Speak',font=('Microsoft Himalaya',20),width=10,bg='#ffa700',fg='white',relief='solid',command=glt.speak)\n",
    "\n",
    "translate_btn.grid(row=2,column=1,pady=4,padx=12)\n",
    "hindi_btn.grid(row=3,column=1,pady=4,padx=12)\n",
    "punjabi_btn.grid(row=4,column=1,pady=4,padx=12)\n",
    "speak_btn.grid(row=5,column=1,pady=4,padx=12)\n",
    "\n",
    "text_area = scrolledtext.ScrolledText(font=('Arial',15),width=45,height=10,relief='solid')\n",
    "text_area.grid(row=2,column=2,rowspan=4)\n",
    "\n",
    "sub_heading = tk.Label(text='Translation',font=('Cooper Black',30),fg='black',bg='white')\n",
    "sub_heading.grid(row=6,column=1,columnspan=2,pady=15)\n",
    "\n",
    "output = tk.Label(text='',font=('Arial Unicode MS',15),fg='#3d5a80',bg='white')\n",
    "output.grid(row=7,column=1,columnspan=2)\n",
    "\n",
    "window.mainloop()"
   ]
  },
  {
   "cell_type": "code",
   "execution_count": 3,
   "id": "d2862cc9",
   "metadata": {},
   "outputs": [],
   "source": [
    "import pyttsx3"
   ]
  },
  {
   "cell_type": "code",
   "execution_count": 4,
   "id": "fb43302e",
   "metadata": {},
   "outputs": [],
   "source": [
    "pyttsx3.speak('Hello How Are You')"
   ]
  },
  {
   "cell_type": "code",
   "execution_count": null,
   "id": "68de6c44",
   "metadata": {},
   "outputs": [],
   "source": []
  }
 ],
 "metadata": {
  "kernelspec": {
   "display_name": "Python 3 (ipykernel)",
   "language": "python",
   "name": "python3"
  },
  "language_info": {
   "codemirror_mode": {
    "name": "ipython",
    "version": 3
   },
   "file_extension": ".py",
   "mimetype": "text/x-python",
   "name": "python",
   "nbconvert_exporter": "python",
   "pygments_lexer": "ipython3",
   "version": "3.10.9"
  }
 },
 "nbformat": 4,
 "nbformat_minor": 5
}
